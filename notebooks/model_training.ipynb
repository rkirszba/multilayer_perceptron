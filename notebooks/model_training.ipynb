{
 "cells": [
  {
   "cell_type": "markdown",
   "metadata": {},
   "source": [
    "# Model training"
   ]
  },
  {
   "cell_type": "markdown",
   "metadata": {},
   "source": [
    "The purpose of this notebook is to take advantage of the data exploration process to train a performant model.\n",
    "\n",
    "In addition, we will iterate on some hyperparameters to better fit the data."
   ]
  },
  {
   "cell_type": "code",
   "execution_count": 324,
   "metadata": {},
   "outputs": [],
   "source": [
    "import numpy as np\n",
    "import pandas as pd\n",
    "\n",
    "import os\n",
    "import sys\n",
    "import inspect\n",
    "currentdir = os.path.dirname(os.path.abspath(inspect.getfile(inspect.currentframe())))\n",
    "parentdir = os.path.dirname(currentdir)\n",
    "sys.path.insert(0,parentdir)\n",
    "\n",
    "from utils.model import FTMultilayerPerceptron\n",
    "from utils.data_processing.normalizers import FTStandardScaler\n",
    "from utils.data_processing.transform_labels import get_labels, labels_to_numbers\n",
    "from utils.data_processing.one_hot import one_hot_encoder, one_hot_decoder\n",
    "from utils.data_processing.selection import train_dev_split, kfold\n",
    "from utils.metrics import *"
   ]
  },
  {
   "cell_type": "markdown",
   "metadata": {},
   "source": [
    "## Download dataset"
   ]
  },
  {
   "cell_type": "code",
   "execution_count": 278,
   "metadata": {},
   "outputs": [],
   "source": [
    "df_orig = pd.read_csv('../data.csv', header=None)"
   ]
  },
  {
   "cell_type": "code",
   "execution_count": 279,
   "metadata": {},
   "outputs": [
    {
     "data": {
      "text/html": [
       "<div>\n",
       "<style scoped>\n",
       "    .dataframe tbody tr th:only-of-type {\n",
       "        vertical-align: middle;\n",
       "    }\n",
       "\n",
       "    .dataframe tbody tr th {\n",
       "        vertical-align: top;\n",
       "    }\n",
       "\n",
       "    .dataframe thead th {\n",
       "        text-align: right;\n",
       "    }\n",
       "</style>\n",
       "<table border=\"1\" class=\"dataframe\">\n",
       "  <thead>\n",
       "    <tr style=\"text-align: right;\">\n",
       "      <th></th>\n",
       "      <th>0</th>\n",
       "      <th>1</th>\n",
       "      <th>2</th>\n",
       "      <th>3</th>\n",
       "      <th>4</th>\n",
       "      <th>5</th>\n",
       "      <th>6</th>\n",
       "      <th>7</th>\n",
       "      <th>8</th>\n",
       "      <th>9</th>\n",
       "      <th>...</th>\n",
       "      <th>22</th>\n",
       "      <th>23</th>\n",
       "      <th>24</th>\n",
       "      <th>25</th>\n",
       "      <th>26</th>\n",
       "      <th>27</th>\n",
       "      <th>28</th>\n",
       "      <th>29</th>\n",
       "      <th>30</th>\n",
       "      <th>31</th>\n",
       "    </tr>\n",
       "  </thead>\n",
       "  <tbody>\n",
       "    <tr>\n",
       "      <th>0</th>\n",
       "      <td>842302</td>\n",
       "      <td>M</td>\n",
       "      <td>17.99</td>\n",
       "      <td>10.38</td>\n",
       "      <td>122.80</td>\n",
       "      <td>1001.0</td>\n",
       "      <td>0.11840</td>\n",
       "      <td>0.27760</td>\n",
       "      <td>0.3001</td>\n",
       "      <td>0.14710</td>\n",
       "      <td>...</td>\n",
       "      <td>25.38</td>\n",
       "      <td>17.33</td>\n",
       "      <td>184.60</td>\n",
       "      <td>2019.0</td>\n",
       "      <td>0.1622</td>\n",
       "      <td>0.6656</td>\n",
       "      <td>0.7119</td>\n",
       "      <td>0.2654</td>\n",
       "      <td>0.4601</td>\n",
       "      <td>0.11890</td>\n",
       "    </tr>\n",
       "    <tr>\n",
       "      <th>1</th>\n",
       "      <td>842517</td>\n",
       "      <td>M</td>\n",
       "      <td>20.57</td>\n",
       "      <td>17.77</td>\n",
       "      <td>132.90</td>\n",
       "      <td>1326.0</td>\n",
       "      <td>0.08474</td>\n",
       "      <td>0.07864</td>\n",
       "      <td>0.0869</td>\n",
       "      <td>0.07017</td>\n",
       "      <td>...</td>\n",
       "      <td>24.99</td>\n",
       "      <td>23.41</td>\n",
       "      <td>158.80</td>\n",
       "      <td>1956.0</td>\n",
       "      <td>0.1238</td>\n",
       "      <td>0.1866</td>\n",
       "      <td>0.2416</td>\n",
       "      <td>0.1860</td>\n",
       "      <td>0.2750</td>\n",
       "      <td>0.08902</td>\n",
       "    </tr>\n",
       "    <tr>\n",
       "      <th>2</th>\n",
       "      <td>84300903</td>\n",
       "      <td>M</td>\n",
       "      <td>19.69</td>\n",
       "      <td>21.25</td>\n",
       "      <td>130.00</td>\n",
       "      <td>1203.0</td>\n",
       "      <td>0.10960</td>\n",
       "      <td>0.15990</td>\n",
       "      <td>0.1974</td>\n",
       "      <td>0.12790</td>\n",
       "      <td>...</td>\n",
       "      <td>23.57</td>\n",
       "      <td>25.53</td>\n",
       "      <td>152.50</td>\n",
       "      <td>1709.0</td>\n",
       "      <td>0.1444</td>\n",
       "      <td>0.4245</td>\n",
       "      <td>0.4504</td>\n",
       "      <td>0.2430</td>\n",
       "      <td>0.3613</td>\n",
       "      <td>0.08758</td>\n",
       "    </tr>\n",
       "    <tr>\n",
       "      <th>3</th>\n",
       "      <td>84348301</td>\n",
       "      <td>M</td>\n",
       "      <td>11.42</td>\n",
       "      <td>20.38</td>\n",
       "      <td>77.58</td>\n",
       "      <td>386.1</td>\n",
       "      <td>0.14250</td>\n",
       "      <td>0.28390</td>\n",
       "      <td>0.2414</td>\n",
       "      <td>0.10520</td>\n",
       "      <td>...</td>\n",
       "      <td>14.91</td>\n",
       "      <td>26.50</td>\n",
       "      <td>98.87</td>\n",
       "      <td>567.7</td>\n",
       "      <td>0.2098</td>\n",
       "      <td>0.8663</td>\n",
       "      <td>0.6869</td>\n",
       "      <td>0.2575</td>\n",
       "      <td>0.6638</td>\n",
       "      <td>0.17300</td>\n",
       "    </tr>\n",
       "    <tr>\n",
       "      <th>4</th>\n",
       "      <td>84358402</td>\n",
       "      <td>M</td>\n",
       "      <td>20.29</td>\n",
       "      <td>14.34</td>\n",
       "      <td>135.10</td>\n",
       "      <td>1297.0</td>\n",
       "      <td>0.10030</td>\n",
       "      <td>0.13280</td>\n",
       "      <td>0.1980</td>\n",
       "      <td>0.10430</td>\n",
       "      <td>...</td>\n",
       "      <td>22.54</td>\n",
       "      <td>16.67</td>\n",
       "      <td>152.20</td>\n",
       "      <td>1575.0</td>\n",
       "      <td>0.1374</td>\n",
       "      <td>0.2050</td>\n",
       "      <td>0.4000</td>\n",
       "      <td>0.1625</td>\n",
       "      <td>0.2364</td>\n",
       "      <td>0.07678</td>\n",
       "    </tr>\n",
       "  </tbody>\n",
       "</table>\n",
       "<p>5 rows × 32 columns</p>\n",
       "</div>"
      ],
      "text/plain": [
       "         0  1      2      3       4       5        6        7       8   \\\n",
       "0    842302  M  17.99  10.38  122.80  1001.0  0.11840  0.27760  0.3001   \n",
       "1    842517  M  20.57  17.77  132.90  1326.0  0.08474  0.07864  0.0869   \n",
       "2  84300903  M  19.69  21.25  130.00  1203.0  0.10960  0.15990  0.1974   \n",
       "3  84348301  M  11.42  20.38   77.58   386.1  0.14250  0.28390  0.2414   \n",
       "4  84358402  M  20.29  14.34  135.10  1297.0  0.10030  0.13280  0.1980   \n",
       "\n",
       "        9   ...     22     23      24      25      26      27      28      29  \\\n",
       "0  0.14710  ...  25.38  17.33  184.60  2019.0  0.1622  0.6656  0.7119  0.2654   \n",
       "1  0.07017  ...  24.99  23.41  158.80  1956.0  0.1238  0.1866  0.2416  0.1860   \n",
       "2  0.12790  ...  23.57  25.53  152.50  1709.0  0.1444  0.4245  0.4504  0.2430   \n",
       "3  0.10520  ...  14.91  26.50   98.87   567.7  0.2098  0.8663  0.6869  0.2575   \n",
       "4  0.10430  ...  22.54  16.67  152.20  1575.0  0.1374  0.2050  0.4000  0.1625   \n",
       "\n",
       "       30       31  \n",
       "0  0.4601  0.11890  \n",
       "1  0.2750  0.08902  \n",
       "2  0.3613  0.08758  \n",
       "3  0.6638  0.17300  \n",
       "4  0.2364  0.07678  \n",
       "\n",
       "[5 rows x 32 columns]"
      ]
     },
     "execution_count": 279,
     "metadata": {},
     "output_type": "execute_result"
    }
   ],
   "source": [
    "df_orig.head()"
   ]
  },
  {
   "cell_type": "markdown",
   "metadata": {},
   "source": [
    "## Set a seed"
   ]
  },
  {
   "cell_type": "markdown",
   "metadata": {},
   "source": [
    "Here we set a seed to be able to reproduce those 'randomized' experiences."
   ]
  },
  {
   "cell_type": "code",
   "execution_count": 280,
   "metadata": {},
   "outputs": [],
   "source": [
    "random_state = 0"
   ]
  },
  {
   "cell_type": "markdown",
   "metadata": {},
   "source": [
    "## Quick and dirty"
   ]
  },
  {
   "cell_type": "markdown",
   "metadata": {},
   "source": [
    "We first are going to use all the features of the dataset and a simple implementation of the neural network (with two hidden layer as minimum 2 layers is mandatory in the subject)"
   ]
  },
  {
   "cell_type": "markdown",
   "metadata": {},
   "source": [
    "### Prepare data"
   ]
  },
  {
   "cell_type": "code",
   "execution_count": 281,
   "metadata": {},
   "outputs": [],
   "source": [
    "df = df_orig.drop(columns=0)"
   ]
  },
  {
   "cell_type": "code",
   "execution_count": 282,
   "metadata": {},
   "outputs": [],
   "source": [
    "X = np.array(df.iloc[:, 1:]).T"
   ]
  },
  {
   "cell_type": "code",
   "execution_count": 283,
   "metadata": {},
   "outputs": [],
   "source": [
    "labels = get_labels(df.iloc[:, :1])\n",
    "y = labels_to_numbers(df.iloc[:, :1], labels)\n",
    "y = one_hot_encoder(y, len(labels))"
   ]
  },
  {
   "cell_type": "markdown",
   "metadata": {},
   "source": [
    "Now we are going to split the dataset in a training (70%) and a development (30%) sets, and normalize them."
   ]
  },
  {
   "cell_type": "code",
   "execution_count": 325,
   "metadata": {},
   "outputs": [],
   "source": [
    "X_folds, y_folds = kfold(X, y, 5, random_state=random_state)"
   ]
  },
  {
   "cell_type": "code",
   "execution_count": 286,
   "metadata": {},
   "outputs": [],
   "source": [
    "scaler = FTStandardScaler()\n",
    "X_train = scaler.fit_transform(X_train)\n",
    "X_dev = scaler.transform(X_dev)"
   ]
  },
  {
   "cell_type": "markdown",
   "metadata": {},
   "source": [
    "### Set the parameters of the neural network"
   ]
  },
  {
   "cell_type": "code",
   "execution_count": 287,
   "metadata": {},
   "outputs": [],
   "source": [
    "nn_dimensions = [X_train.shape[0], 2, 2, y_train.shape[0]]"
   ]
  },
  {
   "cell_type": "code",
   "execution_count": 288,
   "metadata": {},
   "outputs": [],
   "source": [
    "batch_size = X_train.shape[1]"
   ]
  },
  {
   "cell_type": "markdown",
   "metadata": {},
   "source": [
    "### Training"
   ]
  },
  {
   "cell_type": "code",
   "execution_count": null,
   "metadata": {},
   "outputs": [],
   "source": [
    "k = 5"
   ]
  },
  {
   "cell_type": "code",
   "execution_count": null,
   "metadata": {},
   "outputs": [],
   "source": [
    "X_folds, y_folds = kfold(X, y, k, random_state=random_state)"
   ]
  },
  {
   "cell_type": "code",
   "execution_count": null,
   "metadata": {},
   "outputs": [],
   "source": [
    "for i in range(k):\n",
    "    X_train = X_folds[]"
   ]
  },
  {
   "cell_type": "code",
   "execution_count": null,
   "metadata": {},
   "outputs": [],
   "source": []
  },
  {
   "cell_type": "code",
   "execution_count": null,
   "metadata": {},
   "outputs": [],
   "source": []
  },
  {
   "cell_type": "code",
   "execution_count": null,
   "metadata": {},
   "outputs": [],
   "source": []
  },
  {
   "cell_type": "code",
   "execution_count": null,
   "metadata": {},
   "outputs": [],
   "source": []
  },
  {
   "cell_type": "code",
   "execution_count": null,
   "metadata": {},
   "outputs": [],
   "source": []
  },
  {
   "cell_type": "code",
   "execution_count": 289,
   "metadata": {},
   "outputs": [],
   "source": [
    "model = FTMultilayerPerceptron(nn_dimensions,\\\n",
    "    batch_size=batch_size,\\\n",
    "    random_state=random_state,\\\n",
    "    verbose=40,\\\n",
    "    early_stopping=True,\\\n",
    "    max_epoch=30000)"
   ]
  },
  {
   "cell_type": "code",
   "execution_count": 290,
   "metadata": {},
   "outputs": [
    {
     "name": "stdout",
     "output_type": "stream",
     "text": [
      "0.01\n",
      "epoch 0/30000 - loss: 0.6931471605599453 - val_loss: 0.6928443356824678\n",
      "0.01\n",
      "epoch 40/30000 - loss: 0.6814299419189419 - val_loss: 0.6830860909796118\n",
      "0.01\n",
      "epoch 80/30000 - loss: 0.673575873687279 - val_loss: 0.6768182726235746\n",
      "0.01\n",
      "epoch 120/30000 - loss: 0.6683003847645652 - val_loss: 0.6728310231642755\n",
      "0.01\n",
      "epoch 160/30000 - loss: 0.6647475439158554 - val_loss: 0.6703275169962563\n",
      "0.01\n",
      "epoch 200/30000 - loss: 0.6623481781614747 - val_loss: 0.6687852606095457\n",
      "0.01\n",
      "epoch 240/30000 - loss: 0.6607234331569367 - val_loss: 0.6678623505778793\n",
      "0.01\n",
      "epoch 280/30000 - loss: 0.6596204966276094 - val_loss: 0.6673353471203735\n",
      "0.01\n",
      "epoch 320/30000 - loss: 0.6588701206252284 - val_loss: 0.6670584647496433\n",
      "0.01\n",
      "epoch 360/30000 - loss: 0.6583586128959128 - val_loss: 0.6669368453503464\n",
      "0.01\n",
      "epoch 400/30000 - loss: 0.6580093466642861 - val_loss: 0.6669090513913803\n",
      "0.01\n",
      "epoch 440/30000 - loss: 0.6577705173508025 - val_loss: 0.666935579768273\n",
      "0.01\n",
      "End of training:\n",
      "epoch 447/30000 - loss: 0.657737261382676 - val_loss: 0.6669437681010936\n"
     ]
    },
    {
     "data": {
      "text/plain": [
       "<utils.model._ft_multilayer_perceptron.FTMultilayerPerceptron at 0x103404d90>"
      ]
     },
     "execution_count": 290,
     "metadata": {},
     "output_type": "execute_result"
    }
   ],
   "source": [
    "model.fit(X_train, y_train, X_dev=X_dev, y_dev=y_dev)"
   ]
  },
  {
   "cell_type": "code",
   "execution_count": 291,
   "metadata": {},
   "outputs": [
    {
     "data": {
      "image/png": "[encoded data removed]",
      "text/plain": [
       "<Figure size 432x288 with 1 Axes>"
      ]
     },
     "metadata": {
      "needs_background": "light"
     },
     "output_type": "display_data"
    }
   ],
   "source": [
    "model.plot_learning_curve(costs_dev=True)"
   ]
  },
  {
   "cell_type": "markdown",
   "metadata": {},
   "source": [
    "\n",
    "### Prediction on both train and dev sets"
   ]
  },
  {
   "cell_type": "code",
   "execution_count": 292,
   "metadata": {},
   "outputs": [],
   "source": [
    "y_pred_train = model.predict(X_train)\n",
    "y_pred_dev = model.predict(X_dev)"
   ]
  },
  {
   "cell_type": "markdown",
   "metadata": {},
   "source": [
    "### Evaluate performances"
   ]
  },
  {
   "cell_type": "code",
   "execution_count": 293,
   "metadata": {},
   "outputs": [],
   "source": [
    "y_truth_train = one_hot_decoder(y_train)\n",
    "y_truth_dev = one_hot_decoder(y_dev)"
   ]
  },
  {
   "cell_type": "code",
   "execution_count": 294,
   "metadata": {},
   "outputs": [
    {
     "name": "stdout",
     "output_type": "stream",
     "text": [
      "Cost for training set = 0.6577326878860759\n",
      "Cost for      dev set = 0.6669437681010936\n",
      "\n",
      "Accuracy for training set = 0.6331658291457286\n",
      "Accuracy for      dev set = 0.6140350877192983\n"
     ]
    }
   ],
   "source": [
    "print('Cost for training set = ' + str(cross_entropy_cost(y_train, model.predict_probas(X_train))))\n",
    "print('Cost for      dev set = ' + str(cross_entropy_cost(y_dev, model.predict_probas(X_dev))))\n",
    "print()\n",
    "print('Accuracy for training set = ' + str(accuracy(y_truth_train, y_pred_train)))\n",
    "print('Accuracy for      dev set = ' + str(accuracy(y_truth_dev, y_pred_dev)))"
   ]
  },
  {
   "cell_type": "markdown",
   "metadata": {},
   "source": [
    "## With better feature selection"
   ]
  },
  {
   "cell_type": "markdown",
   "metadata": {},
   "source": [
    "### Prepare data"
   ]
  },
  {
   "cell_type": "code",
   "execution_count": 295,
   "metadata": {},
   "outputs": [],
   "source": [
    "cols_to_drop = [0]"
   ]
  },
  {
   "cell_type": "code",
   "execution_count": 296,
   "metadata": {},
   "outputs": [],
   "source": [
    "df = df_orig.drop(columns=cols_to_drop)"
   ]
  },
  {
   "cell_type": "code",
   "execution_count": 297,
   "metadata": {},
   "outputs": [],
   "source": [
    "X = np.array(df.iloc[:, 1:]).T"
   ]
  },
  {
   "cell_type": "code",
   "execution_count": 298,
   "metadata": {},
   "outputs": [],
   "source": [
    "labels = get_labels(df.iloc[:, :1])\n",
    "y = labels_to_numbers(df.iloc[:, :1], labels)\n",
    "y = one_hot_encoder(y, len(labels))"
   ]
  },
  {
   "cell_type": "code",
   "execution_count": 299,
   "metadata": {},
   "outputs": [],
   "source": [
    "X_train, X_dev, y_train, y_dev = train_dev_split(X, y, train_size=0.7, random_state=random_state)"
   ]
  },
  {
   "cell_type": "code",
   "execution_count": 300,
   "metadata": {},
   "outputs": [
    {
     "name": "stdout",
     "output_type": "stream",
     "text": [
      "In training set: 252 0 and 146 1\n",
      "In      dev set: 105 0 and 66 1\n"
     ]
    }
   ],
   "source": [
    "print('In training set: {} 0 and {} 1'.format((y_train[0] == 0).sum(), (y_train[0] == 1).sum()))\n",
    "print('In      dev set: {} 0 and {} 1'.format((y_dev[0] == 0).sum(), (y_dev[0] == 1).sum()))"
   ]
  },
  {
   "cell_type": "code",
   "execution_count": 301,
   "metadata": {},
   "outputs": [],
   "source": [
    "scaler = FTStandardScaler()\n",
    "X_train = scaler.fit_transform(X_train)\n",
    "X_dev = scaler.transform(X_dev)"
   ]
  },
  {
   "cell_type": "markdown",
   "metadata": {},
   "source": [
    "### Set the parameters of the neural network"
   ]
  },
  {
   "cell_type": "code",
   "execution_count": 302,
   "metadata": {},
   "outputs": [],
   "source": [
    "nn_dimensions = [X_train.shape[0], 2, 2, y_train.shape[0]]"
   ]
  },
  {
   "cell_type": "code",
   "execution_count": 303,
   "metadata": {},
   "outputs": [],
   "source": [
    "batch_size = X_train.shape[1]"
   ]
  },
  {
   "cell_type": "markdown",
   "metadata": {},
   "source": [
    "### Training"
   ]
  },
  {
   "cell_type": "code",
   "execution_count": 304,
   "metadata": {},
   "outputs": [],
   "source": [
    "model = FTMultilayerPerceptron(nn_dimensions,\\\n",
    "    batch_size=batch_size,\\\n",
    "    random_state=random_state,\\\n",
    "    verbose=40,\\\n",
    "    early_stopping=True,\\\n",
    "    max_epoch=30000)"
   ]
  },
  {
   "cell_type": "code",
   "execution_count": 305,
   "metadata": {},
   "outputs": [
    {
     "name": "stdout",
     "output_type": "stream",
     "text": [
      "0.01\n",
      "epoch 0/30000 - loss: 0.6931471605599453 - val_loss: 0.6928443356824678\n",
      "0.01\n",
      "epoch 40/30000 - loss: 0.6814299419189419 - val_loss: 0.6830860909796118\n",
      "0.01\n",
      "epoch 80/30000 - loss: 0.673575873687279 - val_loss: 0.6768182726235746\n",
      "0.01\n",
      "epoch 120/30000 - loss: 0.6683003847645652 - val_loss: 0.6728310231642755\n",
      "0.01\n",
      "epoch 160/30000 - loss: 0.6647475439158554 - val_loss: 0.6703275169962563\n",
      "0.01\n",
      "epoch 200/30000 - loss: 0.6623481781614747 - val_loss: 0.6687852606095457\n",
      "0.01\n",
      "epoch 240/30000 - loss: 0.6607234331569367 - val_loss: 0.6678623505778793\n",
      "0.01\n",
      "epoch 280/30000 - loss: 0.6596204966276094 - val_loss: 0.6673353471203735\n",
      "0.01\n",
      "epoch 320/30000 - loss: 0.6588701206252284 - val_loss: 0.6670584647496433\n",
      "0.01\n",
      "epoch 360/30000 - loss: 0.6583586128959128 - val_loss: 0.6669368453503464\n",
      "0.01\n",
      "epoch 400/30000 - loss: 0.6580093466642861 - val_loss: 0.6669090513913803\n",
      "0.01\n",
      "epoch 440/30000 - loss: 0.6577705173508025 - val_loss: 0.666935579768273\n",
      "0.01\n",
      "End of training:\n",
      "epoch 447/30000 - loss: 0.657737261382676 - val_loss: 0.6669437681010936\n"
     ]
    },
    {
     "data": {
      "text/plain": [
       "<utils.model._ft_multilayer_perceptron.FTMultilayerPerceptron at 0x11925dac0>"
      ]
     },
     "execution_count": 305,
     "metadata": {},
     "output_type": "execute_result"
    }
   ],
   "source": [
    "model.fit(X_train, y_train, X_dev=X_dev, y_dev=y_dev)"
   ]
  },
  {
   "cell_type": "code",
   "execution_count": 306,
   "metadata": {},
   "outputs": [
    {
     "data": {
      "image/png": "[encoded data removed]",
      "text/plain": [
       "<Figure size 432x288 with 1 Axes>"
      ]
     },
     "metadata": {
      "needs_background": "light"
     },
     "output_type": "display_data"
    }
   ],
   "source": [
    "model.plot_learning_curve(costs_dev=True)"
   ]
  },
  {
   "cell_type": "markdown",
   "metadata": {},
   "source": [
    "### Prediction on both train and dev sets"
   ]
  },
  {
   "cell_type": "code",
   "execution_count": 307,
   "metadata": {},
   "outputs": [],
   "source": [
    "y_pred_train = model.predict(X_train)\n",
    "y_pred_dev = model.predict(X_dev)"
   ]
  },
  {
   "cell_type": "markdown",
   "metadata": {},
   "source": [
    "### Evaluate performances"
   ]
  },
  {
   "cell_type": "code",
   "execution_count": 308,
   "metadata": {},
   "outputs": [],
   "source": [
    "y_truth_train = one_hot_decoder(y_train)\n",
    "y_truth_dev = one_hot_decoder(y_dev)"
   ]
  },
  {
   "cell_type": "code",
   "execution_count": 309,
   "metadata": {},
   "outputs": [
    {
     "name": "stdout",
     "output_type": "stream",
     "text": [
      "Cost for training set = 0.6577326878860759\n",
      "Cost for      dev set = 0.6669437681010936\n",
      "\n",
      "Accuracy for training set = 0.6331658291457286\n",
      "Accuracy for      dev set = 0.6140350877192983\n"
     ]
    }
   ],
   "source": [
    "print('Cost for training set = ' + str(cross_entropy_cost(y_train, model.predict_probas(X_train))))\n",
    "print('Cost for      dev set = ' + str(cross_entropy_cost(y_dev, model.predict_probas(X_dev))))\n",
    "print()\n",
    "print('Accuracy for training set = ' + str(accuracy(y_truth_train, y_pred_train)))\n",
    "print('Accuracy for      dev set = ' + str(accuracy(y_truth_dev, y_pred_dev)))"
   ]
  },
  {
   "cell_type": "markdown",
   "metadata": {},
   "source": [
    "## Decrease the bias"
   ]
  },
  {
   "cell_type": "markdown",
   "metadata": {},
   "source": [
    "### Increase hidden units"
   ]
  },
  {
   "cell_type": "code",
   "execution_count": 310,
   "metadata": {},
   "outputs": [],
   "source": [
    "nn_dimensions = [X_train.shape[0], 4, 4, y_train.shape[0]]"
   ]
  },
  {
   "cell_type": "markdown",
   "metadata": {},
   "source": [
    "### Training on both train and dev sets"
   ]
  },
  {
   "cell_type": "code",
   "execution_count": 311,
   "metadata": {},
   "outputs": [],
   "source": [
    "model = FTMultilayerPerceptron(nn_dimensions,\\\n",
    "batch_size=batch_size,\\\n",
    "random_state=random_state,\\\n",
    "verbose=100,\\\n",
    "early_stopping=True,\\\n",
    "max_epoch=30000)"
   ]
  },
  {
   "cell_type": "code",
   "execution_count": 312,
   "metadata": {},
   "outputs": [
    {
     "name": "stdout",
     "output_type": "stream",
     "text": [
      "0.01\n",
      "epoch 0/30000 - loss: 0.6202786033009783 - val_loss: 0.6117006054070518\n",
      "0.01\n",
      "epoch 100/30000 - loss: 0.4285347247483183 - val_loss: 0.42700291411397473\n",
      "0.01\n",
      "epoch 200/30000 - loss: 0.33204979728496 - val_loss: 0.32409617934369794\n",
      "0.01\n",
      "epoch 300/30000 - loss: 0.25288491637895294 - val_loss: 0.23415607316863424\n",
      "0.01\n",
      "epoch 400/30000 - loss: 0.20178979613364972 - val_loss: 0.17581665563685672\n",
      "0.01\n",
      "epoch 500/30000 - loss: 0.16872124035369424 - val_loss: 0.13955472058676527\n",
      "0.01\n",
      "epoch 600/30000 - loss: 0.1416580662126515 - val_loss: 0.11140699109102967\n",
      "0.01\n",
      "epoch 700/30000 - loss: 0.12036469975926009 - val_loss: 0.09119470542464099\n",
      "0.01\n",
      "epoch 800/30000 - loss: 0.10483307256139414 - val_loss: 0.0759987247098916\n",
      "0.01\n",
      "epoch 900/30000 - loss: 0.09432803645875393 - val_loss: 0.06613453289045783\n",
      "0.01\n",
      "epoch 1000/30000 - loss: 0.08634466069115564 - val_loss: 0.05936664615889519\n",
      "0.01\n",
      "epoch 1100/30000 - loss: 0.07994937722397515 - val_loss: 0.053812933898406294\n",
      "0.01\n",
      "epoch 1200/30000 - loss: 0.07604603892017939 - val_loss: 0.04973687649712176\n",
      "0.01\n",
      "epoch 1300/30000 - loss: 0.07337035327264874 - val_loss: 0.046646918825379115\n",
      "0.01\n",
      "epoch 1400/30000 - loss: 0.07129924727113025 - val_loss: 0.04431881254679104\n",
      "0.01\n",
      "epoch 1500/30000 - loss: 0.06961335917157147 - val_loss: 0.04253373987164076\n",
      "0.01\n",
      "epoch 1600/30000 - loss: 0.06818402768439386 - val_loss: 0.04115621539411316\n",
      "0.01\n",
      "epoch 1700/30000 - loss: 0.066928828208971 - val_loss: 0.040048295530415334\n",
      "0.01\n",
      "epoch 1800/30000 - loss: 0.06574226761693111 - val_loss: 0.039180631488946335\n",
      "0.01\n",
      "epoch 1900/30000 - loss: 0.06456673475786107 - val_loss: 0.03846367353702127\n",
      "0.01\n",
      "epoch 2000/30000 - loss: 0.06342024700326813 - val_loss: 0.0378588262313758\n",
      "0.01\n",
      "epoch 2100/30000 - loss: 0.062310520464583144 - val_loss: 0.0373793432072683\n",
      "0.01\n",
      "epoch 2200/30000 - loss: 0.061263887507298755 - val_loss: 0.037001608672034704\n",
      "0.01\n",
      "epoch 2300/30000 - loss: 0.060269753686694245 - val_loss: 0.03673075467200785\n",
      "0.01\n",
      "epoch 2400/30000 - loss: 0.05930344822266102 - val_loss: 0.03656257390446847\n",
      "0.01\n",
      "epoch 2500/30000 - loss: 0.05838199211191414 - val_loss: 0.03644999393968683\n",
      "0.01\n",
      "epoch 2600/30000 - loss: 0.05753665936993512 - val_loss: 0.03634373532579595\n",
      "0.01\n",
      "epoch 2700/30000 - loss: 0.05660561371234898 - val_loss: 0.0362444867487502\n",
      "0.01\n",
      "epoch 2800/30000 - loss: 0.05559521237795803 - val_loss: 0.03614490278661342\n",
      "0.01\n",
      "epoch 2900/30000 - loss: 0.054630519968290214 - val_loss: 0.036068010619214726\n",
      "0.01\n",
      "End of training:\n",
      "epoch 2986/30000 - loss: 0.05384287686434796 - val_loss: 0.036053228791652785\n"
     ]
    },
    {
     "data": {
      "text/plain": [
       "<utils.model._ft_multilayer_perceptron.FTMultilayerPerceptron at 0x1195d45b0>"
      ]
     },
     "execution_count": 312,
     "metadata": {},
     "output_type": "execute_result"
    }
   ],
   "source": [
    "model.fit(X_train, y_train, X_dev=X_dev, y_dev=y_dev)"
   ]
  },
  {
   "cell_type": "code",
   "execution_count": 313,
   "metadata": {},
   "outputs": [
    {
     "data": {
      "image/png": "[encoded data removed]",
      "text/plain": [
       "<Figure size 432x288 with 1 Axes>"
      ]
     },
     "metadata": {
      "needs_background": "light"
     },
     "output_type": "display_data"
    }
   ],
   "source": [
    "model.plot_learning_curve(costs_dev=True)"
   ]
  },
  {
   "cell_type": "markdown",
   "metadata": {},
   "source": [
    "### Prediction on both train and dev sets"
   ]
  },
  {
   "cell_type": "code",
   "execution_count": 314,
   "metadata": {},
   "outputs": [],
   "source": [
    "y_pred_train = model.predict(X_train)\n",
    "y_pred_dev = model.predict(X_dev)"
   ]
  },
  {
   "cell_type": "markdown",
   "metadata": {},
   "source": [
    "### Evaluate performances"
   ]
  },
  {
   "cell_type": "code",
   "execution_count": 315,
   "metadata": {},
   "outputs": [],
   "source": [
    "y_truth_train = one_hot_decoder(y_train)\n",
    "y_truth_dev = one_hot_decoder(y_dev)"
   ]
  },
  {
   "cell_type": "code",
   "execution_count": 316,
   "metadata": {},
   "outputs": [
    {
     "name": "stdout",
     "output_type": "stream",
     "text": [
      "Cost for training set = 0.05383384774482361\n",
      "Cost for      dev set = 0.036053228791652785\n",
      "\n",
      "Accuracy for training set = 0.9874371859296482\n",
      "Accuracy for      dev set = 0.9941520467836257\n"
     ]
    }
   ],
   "source": [
    "print('Cost for training set = ' + str(cross_entropy_cost(y_train, model.predict_probas(X_train))))\n",
    "print('Cost for      dev set = ' + str(cross_entropy_cost(y_dev, model.predict_probas(X_dev))))\n",
    "print()\n",
    "print('Accuracy for training set = ' + str(accuracy(y_truth_train, y_pred_train)))\n",
    "print('Accuracy for      dev set = ' + str(accuracy(y_truth_dev, y_pred_dev)))"
   ]
  },
  {
   "cell_type": "markdown",
   "metadata": {},
   "source": [
    "## Avoid possible variance"
   ]
  },
  {
   "cell_type": "markdown",
   "metadata": {},
   "source": [
    "### Set the parameters of the neural network"
   ]
  },
  {
   "cell_type": "markdown",
   "metadata": {},
   "source": [
    "We are going to use a dropout technique."
   ]
  },
  {
   "cell_type": "code",
   "execution_count": 317,
   "metadata": {},
   "outputs": [],
   "source": [
    "nn_dimensions = [X_train.shape[0], 5, 5, y_train.shape[0]]"
   ]
  },
  {
   "cell_type": "markdown",
   "metadata": {},
   "source": [
    "### Training on both train and dev sets"
   ]
  },
  {
   "cell_type": "code",
   "execution_count": 318,
   "metadata": {},
   "outputs": [],
   "source": [
    "model = FTMultilayerPerceptron(nn_dimensions,\\\n",
    "batch_size=batch_size,\\\n",
    "random_state=random_state,\\\n",
    "verbose=100,\\\n",
    "early_stopping=True,\\\n",
    "max_epoch=30000)"
   ]
  },
  {
   "cell_type": "code",
   "execution_count": 319,
   "metadata": {},
   "outputs": [
    {
     "name": "stdout",
     "output_type": "stream",
     "text": [
      "0.01\n",
      "epoch 0/30000 - loss: 0.6132597518455138 - val_loss: 0.6136048289563936\n",
      "0.01\n",
      "epoch 100/30000 - loss: 0.28242046568272255 - val_loss: 0.29252771736397276\n",
      "0.01\n",
      "epoch 200/30000 - loss: 0.20712374945252565 - val_loss: 0.20137165047079578\n",
      "0.01\n",
      "epoch 300/30000 - loss: 0.17715449723190557 - val_loss: 0.16307523183351255\n",
      "0.01\n",
      "epoch 400/30000 - loss: 0.15993622817257605 - val_loss: 0.14313777723574636\n",
      "0.01\n",
      "epoch 500/30000 - loss: 0.1470798529849858 - val_loss: 0.12986862299285393\n",
      "0.01\n",
      "epoch 600/30000 - loss: 0.13578136360404872 - val_loss: 0.11984185173852932\n",
      "0.01\n",
      "epoch 700/30000 - loss: 0.12682983032044542 - val_loss: 0.11010289502813378\n",
      "0.01\n",
      "epoch 800/30000 - loss: 0.11797434659586914 - val_loss: 0.10159899416368902\n",
      "0.01\n",
      "epoch 900/30000 - loss: 0.10987951273875644 - val_loss: 0.09494882707598362\n",
      "0.01\n",
      "epoch 1000/30000 - loss: 0.10204706040262228 - val_loss: 0.08935922793890659\n",
      "0.01\n",
      "epoch 1100/30000 - loss: 0.09401617209236715 - val_loss: 0.08360268546372304\n",
      "0.01\n",
      "epoch 1200/30000 - loss: 0.0892665916389144 - val_loss: 0.07614244622868786\n",
      "0.01\n",
      "epoch 1300/30000 - loss: 0.08523885195933222 - val_loss: 0.07033786218994965\n",
      "0.01\n",
      "epoch 1400/30000 - loss: 0.08195918366984468 - val_loss: 0.06607854418797919\n",
      "0.01\n",
      "epoch 1500/30000 - loss: 0.07913232001606312 - val_loss: 0.0627373396598224\n",
      "0.01\n",
      "epoch 1600/30000 - loss: 0.07652041272524648 - val_loss: 0.059979084472662744\n",
      "0.01\n",
      "epoch 1700/30000 - loss: 0.074169339536746 - val_loss: 0.0576656132643927\n",
      "0.01\n",
      "epoch 1800/30000 - loss: 0.07212460488088782 - val_loss: 0.05587581159198135\n",
      "0.01\n",
      "epoch 1900/30000 - loss: 0.07019433269546851 - val_loss: 0.054389750437730186\n",
      "0.01\n",
      "epoch 2000/30000 - loss: 0.06849893655221918 - val_loss: 0.05316361616171395\n",
      "0.01\n",
      "epoch 2100/30000 - loss: 0.06698997513176112 - val_loss: 0.05219603443938031\n",
      "0.01\n",
      "epoch 2200/30000 - loss: 0.0655116372618122 - val_loss: 0.05150447760337368\n",
      "0.01\n",
      "epoch 2300/30000 - loss: 0.06412690559213638 - val_loss: 0.051147113985885194\n",
      "0.01\n",
      "epoch 2400/30000 - loss: 0.06282559836128652 - val_loss: 0.050863240744082765\n",
      "0.01\n",
      "epoch 2500/30000 - loss: 0.061582632207016555 - val_loss: 0.05076484380842737\n",
      "0.01\n",
      "End of training:\n",
      "epoch 2535/30000 - loss: 0.061163238580263846 - val_loss: 0.05077889584704743\n"
     ]
    },
    {
     "data": {
      "text/plain": [
       "<utils.model._ft_multilayer_perceptron.FTMultilayerPerceptron at 0x1196336a0>"
      ]
     },
     "execution_count": 319,
     "metadata": {},
     "output_type": "execute_result"
    }
   ],
   "source": [
    "model.fit(X_train, y_train, X_dev=X_dev, y_dev=y_dev)"
   ]
  },
  {
   "cell_type": "code",
   "execution_count": 320,
   "metadata": {},
   "outputs": [
    {
     "data": {
      "image/png": "[encoded data removed]",
      "text/plain": [
       "<Figure size 432x288 with 1 Axes>"
      ]
     },
     "metadata": {
      "needs_background": "light"
     },
     "output_type": "display_data"
    }
   ],
   "source": [
    "model.plot_learning_curve(costs_dev=True)"
   ]
  },
  {
   "cell_type": "markdown",
   "metadata": {},
   "source": [
    "### Prediction on both train and dev sets"
   ]
  },
  {
   "cell_type": "code",
   "execution_count": 321,
   "metadata": {},
   "outputs": [],
   "source": [
    "y_pred_train = model.predict(X_train)\n",
    "y_pred_dev = model.predict(X_dev)"
   ]
  },
  {
   "cell_type": "markdown",
   "metadata": {},
   "source": [
    "### Evaluate performances"
   ]
  },
  {
   "cell_type": "code",
   "execution_count": 322,
   "metadata": {},
   "outputs": [],
   "source": [
    "y_truth_train = one_hot_decoder(y_train)\n",
    "y_truth_dev = one_hot_decoder(y_dev)"
   ]
  },
  {
   "cell_type": "code",
   "execution_count": 323,
   "metadata": {},
   "outputs": [
    {
     "name": "stdout",
     "output_type": "stream",
     "text": [
      "Cost for training set = 0.06115129338884965\n",
      "Cost for      dev set = 0.05077889584704743\n",
      "\n",
      "Accuracy for training set = 0.9849246231155779\n",
      "Accuracy for      dev set = 0.9766081871345029\n"
     ]
    }
   ],
   "source": [
    "print('Cost for training set = ' + str(cross_entropy_cost(y_train, model.predict_probas(X_train))))\n",
    "print('Cost for      dev set = ' + str(cross_entropy_cost(y_dev, model.predict_probas(X_dev))))\n",
    "print()\n",
    "print('Accuracy for training set = ' + str(accuracy(y_truth_train, y_pred_train)))\n",
    "print('Accuracy for      dev set = ' + str(accuracy(y_truth_dev, y_pred_dev)))"
   ]
  },
  {
   "cell_type": "code",
   "execution_count": null,
   "metadata": {},
   "outputs": [],
   "source": []
  },
  {
   "cell_type": "code",
   "execution_count": null,
   "metadata": {},
   "outputs": [],
   "source": []
  }
 ],
 "metadata": {
  "kernelspec": {
   "display_name": "Python 3",
   "language": "python",
   "name": "python3"
  },
  "language_info": {
   "codemirror_mode": {
    "name": "ipython",
    "version": 3
   },
   "file_extension": ".py",
   "mimetype": "text/x-python",
   "name": "python",
   "nbconvert_exporter": "python",
   "pygments_lexer": "ipython3",
   "version": "3.8.3"
  }
 },
 "nbformat": 4,
 "nbformat_minor": 4
}
